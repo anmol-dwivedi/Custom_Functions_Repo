{
 "cells": [
  {
   "cell_type": "code",
   "execution_count": 31,
   "id": "ba02cdc4",
   "metadata": {},
   "outputs": [],
   "source": [
    "import numpy as np\n",
    "import pandas as pd\n",
    "import seaborn as sns\n",
    "import matplotlib.pyplot as plt\n",
    "import os"
   ]
  },
  {
   "cell_type": "code",
   "execution_count": 32,
   "id": "7a7c972f",
   "metadata": {},
   "outputs": [
    {
     "data": {
      "text/html": [
       "<div>\n",
       "<style scoped>\n",
       "    .dataframe tbody tr th:only-of-type {\n",
       "        vertical-align: middle;\n",
       "    }\n",
       "\n",
       "    .dataframe tbody tr th {\n",
       "        vertical-align: top;\n",
       "    }\n",
       "\n",
       "    .dataframe thead th {\n",
       "        text-align: right;\n",
       "    }\n",
       "</style>\n",
       "<table border=\"1\" class=\"dataframe\">\n",
       "  <thead>\n",
       "    <tr style=\"text-align: right;\">\n",
       "      <th></th>\n",
       "      <th>Churn</th>\n",
       "      <th>Tenure</th>\n",
       "      <th>CityTier</th>\n",
       "      <th>WarehouseToHome</th>\n",
       "      <th>HourSpendOnApp</th>\n",
       "      <th>NumberOfDeviceRegistered</th>\n",
       "      <th>SatisfactionScore</th>\n",
       "      <th>NumberOfAddress</th>\n",
       "      <th>Complain</th>\n",
       "      <th>OrderAmountHikeFromlastYear</th>\n",
       "      <th>...</th>\n",
       "      <th>PreferredPaymentMode_UPI</th>\n",
       "      <th>Gender_Male</th>\n",
       "      <th>PreferedOrderCat_Grocery</th>\n",
       "      <th>PreferedOrderCat_Laptop</th>\n",
       "      <th>PreferedOrderCat_Mobile</th>\n",
       "      <th>PreferedOrderCat_Others</th>\n",
       "      <th>MaritalStatus_Married</th>\n",
       "      <th>MaritalStatus_Single</th>\n",
       "      <th>K_Means_clust</th>\n",
       "      <th>PAM_clust</th>\n",
       "    </tr>\n",
       "  </thead>\n",
       "  <tbody>\n",
       "    <tr>\n",
       "      <th>0</th>\n",
       "      <td>1.0</td>\n",
       "      <td>4.0</td>\n",
       "      <td>3.0</td>\n",
       "      <td>6.0</td>\n",
       "      <td>3.0</td>\n",
       "      <td>3.0</td>\n",
       "      <td>2.0</td>\n",
       "      <td>9.0</td>\n",
       "      <td>1.0</td>\n",
       "      <td>11.0</td>\n",
       "      <td>...</td>\n",
       "      <td>0</td>\n",
       "      <td>0</td>\n",
       "      <td>0</td>\n",
       "      <td>1</td>\n",
       "      <td>0</td>\n",
       "      <td>0</td>\n",
       "      <td>0</td>\n",
       "      <td>1</td>\n",
       "      <td>1</td>\n",
       "      <td>0</td>\n",
       "    </tr>\n",
       "    <tr>\n",
       "      <th>1</th>\n",
       "      <td>1.0</td>\n",
       "      <td>9.0</td>\n",
       "      <td>1.0</td>\n",
       "      <td>8.0</td>\n",
       "      <td>3.0</td>\n",
       "      <td>4.0</td>\n",
       "      <td>3.0</td>\n",
       "      <td>7.0</td>\n",
       "      <td>1.0</td>\n",
       "      <td>15.0</td>\n",
       "      <td>...</td>\n",
       "      <td>1</td>\n",
       "      <td>1</td>\n",
       "      <td>0</td>\n",
       "      <td>0</td>\n",
       "      <td>1</td>\n",
       "      <td>0</td>\n",
       "      <td>0</td>\n",
       "      <td>1</td>\n",
       "      <td>0</td>\n",
       "      <td>1</td>\n",
       "    </tr>\n",
       "    <tr>\n",
       "      <th>2</th>\n",
       "      <td>1.0</td>\n",
       "      <td>9.0</td>\n",
       "      <td>1.0</td>\n",
       "      <td>30.0</td>\n",
       "      <td>2.0</td>\n",
       "      <td>4.0</td>\n",
       "      <td>3.0</td>\n",
       "      <td>6.0</td>\n",
       "      <td>1.0</td>\n",
       "      <td>14.0</td>\n",
       "      <td>...</td>\n",
       "      <td>0</td>\n",
       "      <td>1</td>\n",
       "      <td>0</td>\n",
       "      <td>0</td>\n",
       "      <td>1</td>\n",
       "      <td>0</td>\n",
       "      <td>0</td>\n",
       "      <td>1</td>\n",
       "      <td>0</td>\n",
       "      <td>1</td>\n",
       "    </tr>\n",
       "    <tr>\n",
       "      <th>3</th>\n",
       "      <td>1.0</td>\n",
       "      <td>0.0</td>\n",
       "      <td>3.0</td>\n",
       "      <td>15.0</td>\n",
       "      <td>2.0</td>\n",
       "      <td>4.0</td>\n",
       "      <td>5.0</td>\n",
       "      <td>8.0</td>\n",
       "      <td>0.0</td>\n",
       "      <td>23.0</td>\n",
       "      <td>...</td>\n",
       "      <td>0</td>\n",
       "      <td>1</td>\n",
       "      <td>0</td>\n",
       "      <td>1</td>\n",
       "      <td>0</td>\n",
       "      <td>0</td>\n",
       "      <td>0</td>\n",
       "      <td>1</td>\n",
       "      <td>1</td>\n",
       "      <td>0</td>\n",
       "    </tr>\n",
       "    <tr>\n",
       "      <th>4</th>\n",
       "      <td>1.0</td>\n",
       "      <td>0.0</td>\n",
       "      <td>1.0</td>\n",
       "      <td>12.0</td>\n",
       "      <td>3.0</td>\n",
       "      <td>3.0</td>\n",
       "      <td>5.0</td>\n",
       "      <td>3.0</td>\n",
       "      <td>0.0</td>\n",
       "      <td>11.0</td>\n",
       "      <td>...</td>\n",
       "      <td>0</td>\n",
       "      <td>1</td>\n",
       "      <td>0</td>\n",
       "      <td>0</td>\n",
       "      <td>1</td>\n",
       "      <td>0</td>\n",
       "      <td>0</td>\n",
       "      <td>1</td>\n",
       "      <td>0</td>\n",
       "      <td>1</td>\n",
       "    </tr>\n",
       "  </tbody>\n",
       "</table>\n",
       "<p>5 rows × 27 columns</p>\n",
       "</div>"
      ],
      "text/plain": [
       "   Churn  Tenure  CityTier  WarehouseToHome  HourSpendOnApp  \\\n",
       "0    1.0     4.0       3.0              6.0             3.0   \n",
       "1    1.0     9.0       1.0              8.0             3.0   \n",
       "2    1.0     9.0       1.0             30.0             2.0   \n",
       "3    1.0     0.0       3.0             15.0             2.0   \n",
       "4    1.0     0.0       1.0             12.0             3.0   \n",
       "\n",
       "   NumberOfDeviceRegistered  SatisfactionScore  NumberOfAddress  Complain  \\\n",
       "0                       3.0                2.0              9.0       1.0   \n",
       "1                       4.0                3.0              7.0       1.0   \n",
       "2                       4.0                3.0              6.0       1.0   \n",
       "3                       4.0                5.0              8.0       0.0   \n",
       "4                       3.0                5.0              3.0       0.0   \n",
       "\n",
       "   OrderAmountHikeFromlastYear  ...  PreferredPaymentMode_UPI  Gender_Male  \\\n",
       "0                         11.0  ...                         0            0   \n",
       "1                         15.0  ...                         1            1   \n",
       "2                         14.0  ...                         0            1   \n",
       "3                         23.0  ...                         0            1   \n",
       "4                         11.0  ...                         0            1   \n",
       "\n",
       "   PreferedOrderCat_Grocery  PreferedOrderCat_Laptop  PreferedOrderCat_Mobile  \\\n",
       "0                         0                        1                        0   \n",
       "1                         0                        0                        1   \n",
       "2                         0                        0                        1   \n",
       "3                         0                        1                        0   \n",
       "4                         0                        0                        1   \n",
       "\n",
       "   PreferedOrderCat_Others  MaritalStatus_Married  MaritalStatus_Single  \\\n",
       "0                        0                      0                     1   \n",
       "1                        0                      0                     1   \n",
       "2                        0                      0                     1   \n",
       "3                        0                      0                     1   \n",
       "4                        0                      0                     1   \n",
       "\n",
       "   K_Means_clust  PAM_clust  \n",
       "0              1          0  \n",
       "1              0          1  \n",
       "2              0          1  \n",
       "3              1          0  \n",
       "4              0          1  \n",
       "\n",
       "[5 rows x 27 columns]"
      ]
     },
     "execution_count": 32,
     "metadata": {},
     "output_type": "execute_result"
    }
   ],
   "source": [
    "data1 = pd.read_csv('churn_clustered.csv')\n",
    "data1.head()"
   ]
  },
  {
   "cell_type": "code",
   "execution_count": 33,
   "id": "5ada2624",
   "metadata": {},
   "outputs": [],
   "source": [
    "from sklearn.tree import DecisionTreeClassifier\n",
    "from sklearn.metrics import classification_report, confusion_matrix, roc_auc_score, roc_curve, accuracy_score\n",
    "from sklearn.model_selection import train_test_split"
   ]
  },
  {
   "cell_type": "code",
   "execution_count": 34,
   "id": "72293f83",
   "metadata": {},
   "outputs": [],
   "source": [
    "X = data1.drop('Churn', axis=1)\n",
    "y = data1['Churn']"
   ]
  },
  {
   "cell_type": "code",
   "execution_count": 35,
   "id": "4c6237b8",
   "metadata": {},
   "outputs": [
    {
     "data": {
      "text/plain": [
       "array([[-0.73795855,  1.46977096, -1.17879509, ...,  1.46107627,\n",
       "         0.7727633 , -0.90404728],\n",
       "       [-0.1348657 , -0.71528595, -0.93153381, ...,  1.46107627,\n",
       "        -1.29405731,  1.10613684],\n",
       "       [-0.1348657 , -0.71528595,  1.78834025, ...,  1.46107627,\n",
       "        -1.29405731,  1.10613684],\n",
       "       ...,\n",
       "       [-1.09981425, -0.71528595, -0.56064189, ..., -0.68442697,\n",
       "         0.7727633 , -0.90404728],\n",
       "       [ 1.55379427,  1.46977096, -0.80790317, ..., -0.68442697,\n",
       "         0.7727633 , -0.90404728],\n",
       "       [-0.25548427, -0.71528595, -0.06611933, ..., -0.68442697,\n",
       "         0.7727633 , -0.90404728]])"
      ]
     },
     "execution_count": 35,
     "metadata": {},
     "output_type": "execute_result"
    }
   ],
   "source": [
    "from sklearn.preprocessing import StandardScaler\n",
    "\n",
    "scaler = StandardScaler()\n",
    "X_scaled = scaler.fit_transform(X)\n",
    "X_scaled"
   ]
  },
  {
   "cell_type": "code",
   "execution_count": 36,
   "id": "20d34b4e",
   "metadata": {},
   "outputs": [
    {
     "data": {
      "text/html": [
       "<div>\n",
       "<style scoped>\n",
       "    .dataframe tbody tr th:only-of-type {\n",
       "        vertical-align: middle;\n",
       "    }\n",
       "\n",
       "    .dataframe tbody tr th {\n",
       "        vertical-align: top;\n",
       "    }\n",
       "\n",
       "    .dataframe thead th {\n",
       "        text-align: right;\n",
       "    }\n",
       "</style>\n",
       "<table border=\"1\" class=\"dataframe\">\n",
       "  <thead>\n",
       "    <tr style=\"text-align: right;\">\n",
       "      <th></th>\n",
       "      <th>Tenure</th>\n",
       "      <th>CityTier</th>\n",
       "      <th>WarehouseToHome</th>\n",
       "      <th>HourSpendOnApp</th>\n",
       "      <th>NumberOfDeviceRegistered</th>\n",
       "      <th>SatisfactionScore</th>\n",
       "      <th>NumberOfAddress</th>\n",
       "      <th>Complain</th>\n",
       "      <th>OrderAmountHikeFromlastYear</th>\n",
       "      <th>CouponUsed</th>\n",
       "      <th>...</th>\n",
       "      <th>PreferredPaymentMode_UPI</th>\n",
       "      <th>Gender_Male</th>\n",
       "      <th>PreferedOrderCat_Grocery</th>\n",
       "      <th>PreferedOrderCat_Laptop</th>\n",
       "      <th>PreferedOrderCat_Mobile</th>\n",
       "      <th>PreferedOrderCat_Others</th>\n",
       "      <th>MaritalStatus_Married</th>\n",
       "      <th>MaritalStatus_Single</th>\n",
       "      <th>K_Means_clust</th>\n",
       "      <th>PAM_clust</th>\n",
       "    </tr>\n",
       "  </thead>\n",
       "  <tbody>\n",
       "    <tr>\n",
       "      <th>0</th>\n",
       "      <td>-0.737959</td>\n",
       "      <td>1.469771</td>\n",
       "      <td>-1.178795</td>\n",
       "      <td>0.092654</td>\n",
       "      <td>-0.67290</td>\n",
       "      <td>-0.772992</td>\n",
       "      <td>1.875626</td>\n",
       "      <td>1.584290</td>\n",
       "      <td>-1.304023</td>\n",
       "      <td>-0.411136</td>\n",
       "      <td>...</td>\n",
       "      <td>-0.472632</td>\n",
       "      <td>-1.227468</td>\n",
       "      <td>-0.280257</td>\n",
       "      <td>1.321492</td>\n",
       "      <td>-0.765451</td>\n",
       "      <td>-0.221808</td>\n",
       "      <td>-1.062709</td>\n",
       "      <td>1.461076</td>\n",
       "      <td>0.772763</td>\n",
       "      <td>-0.904047</td>\n",
       "    </tr>\n",
       "    <tr>\n",
       "      <th>1</th>\n",
       "      <td>-0.134866</td>\n",
       "      <td>-0.715286</td>\n",
       "      <td>-0.931534</td>\n",
       "      <td>0.092654</td>\n",
       "      <td>0.30375</td>\n",
       "      <td>-0.048392</td>\n",
       "      <td>1.092812</td>\n",
       "      <td>1.584290</td>\n",
       "      <td>-0.187486</td>\n",
       "      <td>-1.344668</td>\n",
       "      <td>...</td>\n",
       "      <td>2.115810</td>\n",
       "      <td>0.814685</td>\n",
       "      <td>-0.280257</td>\n",
       "      <td>-0.756720</td>\n",
       "      <td>1.306419</td>\n",
       "      <td>-0.221808</td>\n",
       "      <td>-1.062709</td>\n",
       "      <td>1.461076</td>\n",
       "      <td>-1.294057</td>\n",
       "      <td>1.106137</td>\n",
       "    </tr>\n",
       "    <tr>\n",
       "      <th>2</th>\n",
       "      <td>-0.134866</td>\n",
       "      <td>-0.715286</td>\n",
       "      <td>1.788340</td>\n",
       "      <td>-1.324850</td>\n",
       "      <td>0.30375</td>\n",
       "      <td>-0.048392</td>\n",
       "      <td>0.701405</td>\n",
       "      <td>1.584290</td>\n",
       "      <td>-0.466620</td>\n",
       "      <td>-1.344668</td>\n",
       "      <td>...</td>\n",
       "      <td>-0.472632</td>\n",
       "      <td>0.814685</td>\n",
       "      <td>-0.280257</td>\n",
       "      <td>-0.756720</td>\n",
       "      <td>1.306419</td>\n",
       "      <td>-0.221808</td>\n",
       "      <td>-1.062709</td>\n",
       "      <td>1.461076</td>\n",
       "      <td>-1.294057</td>\n",
       "      <td>1.106137</td>\n",
       "    </tr>\n",
       "    <tr>\n",
       "      <th>3</th>\n",
       "      <td>-1.220433</td>\n",
       "      <td>1.469771</td>\n",
       "      <td>-0.066119</td>\n",
       "      <td>-1.324850</td>\n",
       "      <td>0.30375</td>\n",
       "      <td>1.400807</td>\n",
       "      <td>1.484219</td>\n",
       "      <td>-0.631198</td>\n",
       "      <td>2.045589</td>\n",
       "      <td>-1.344668</td>\n",
       "      <td>...</td>\n",
       "      <td>-0.472632</td>\n",
       "      <td>0.814685</td>\n",
       "      <td>-0.280257</td>\n",
       "      <td>1.321492</td>\n",
       "      <td>-0.765451</td>\n",
       "      <td>-0.221808</td>\n",
       "      <td>-1.062709</td>\n",
       "      <td>1.461076</td>\n",
       "      <td>0.772763</td>\n",
       "      <td>-0.904047</td>\n",
       "    </tr>\n",
       "    <tr>\n",
       "      <th>4</th>\n",
       "      <td>-1.220433</td>\n",
       "      <td>-0.715286</td>\n",
       "      <td>-0.437011</td>\n",
       "      <td>0.092654</td>\n",
       "      <td>-0.67290</td>\n",
       "      <td>1.400807</td>\n",
       "      <td>-0.472817</td>\n",
       "      <td>-0.631198</td>\n",
       "      <td>-1.304023</td>\n",
       "      <td>-0.411136</td>\n",
       "      <td>...</td>\n",
       "      <td>-0.472632</td>\n",
       "      <td>0.814685</td>\n",
       "      <td>-0.280257</td>\n",
       "      <td>-0.756720</td>\n",
       "      <td>1.306419</td>\n",
       "      <td>-0.221808</td>\n",
       "      <td>-1.062709</td>\n",
       "      <td>1.461076</td>\n",
       "      <td>-1.294057</td>\n",
       "      <td>1.106137</td>\n",
       "    </tr>\n",
       "  </tbody>\n",
       "</table>\n",
       "<p>5 rows × 26 columns</p>\n",
       "</div>"
      ],
      "text/plain": [
       "     Tenure  CityTier  WarehouseToHome  HourSpendOnApp  \\\n",
       "0 -0.737959  1.469771        -1.178795        0.092654   \n",
       "1 -0.134866 -0.715286        -0.931534        0.092654   \n",
       "2 -0.134866 -0.715286         1.788340       -1.324850   \n",
       "3 -1.220433  1.469771        -0.066119       -1.324850   \n",
       "4 -1.220433 -0.715286        -0.437011        0.092654   \n",
       "\n",
       "   NumberOfDeviceRegistered  SatisfactionScore  NumberOfAddress  Complain  \\\n",
       "0                  -0.67290          -0.772992         1.875626  1.584290   \n",
       "1                   0.30375          -0.048392         1.092812  1.584290   \n",
       "2                   0.30375          -0.048392         0.701405  1.584290   \n",
       "3                   0.30375           1.400807         1.484219 -0.631198   \n",
       "4                  -0.67290           1.400807        -0.472817 -0.631198   \n",
       "\n",
       "   OrderAmountHikeFromlastYear  CouponUsed  ...  PreferredPaymentMode_UPI  \\\n",
       "0                    -1.304023   -0.411136  ...                 -0.472632   \n",
       "1                    -0.187486   -1.344668  ...                  2.115810   \n",
       "2                    -0.466620   -1.344668  ...                 -0.472632   \n",
       "3                     2.045589   -1.344668  ...                 -0.472632   \n",
       "4                    -1.304023   -0.411136  ...                 -0.472632   \n",
       "\n",
       "   Gender_Male  PreferedOrderCat_Grocery  PreferedOrderCat_Laptop  \\\n",
       "0    -1.227468                 -0.280257                 1.321492   \n",
       "1     0.814685                 -0.280257                -0.756720   \n",
       "2     0.814685                 -0.280257                -0.756720   \n",
       "3     0.814685                 -0.280257                 1.321492   \n",
       "4     0.814685                 -0.280257                -0.756720   \n",
       "\n",
       "   PreferedOrderCat_Mobile  PreferedOrderCat_Others  MaritalStatus_Married  \\\n",
       "0                -0.765451                -0.221808              -1.062709   \n",
       "1                 1.306419                -0.221808              -1.062709   \n",
       "2                 1.306419                -0.221808              -1.062709   \n",
       "3                -0.765451                -0.221808              -1.062709   \n",
       "4                 1.306419                -0.221808              -1.062709   \n",
       "\n",
       "   MaritalStatus_Single  K_Means_clust  PAM_clust  \n",
       "0              1.461076       0.772763  -0.904047  \n",
       "1              1.461076      -1.294057   1.106137  \n",
       "2              1.461076      -1.294057   1.106137  \n",
       "3              1.461076       0.772763  -0.904047  \n",
       "4              1.461076      -1.294057   1.106137  \n",
       "\n",
       "[5 rows x 26 columns]"
      ]
     },
     "execution_count": 36,
     "metadata": {},
     "output_type": "execute_result"
    }
   ],
   "source": [
    "X_scaled = pd.DataFrame(X_scaled, columns=X.columns, index=X.index)\n",
    "X_scaled.head()"
   ]
  },
  {
   "cell_type": "code",
   "execution_count": 37,
   "id": "9ccf3172",
   "metadata": {},
   "outputs": [],
   "source": [
    "x = X_scaled.copy(deep=True)"
   ]
  },
  {
   "cell_type": "code",
   "execution_count": 38,
   "id": "2c8df899",
   "metadata": {},
   "outputs": [],
   "source": [
    "x_train, x_test, y_train, y_test = train_test_split(x,y, test_size=0.30, random_state=1, stratify=y)"
   ]
  },
  {
   "cell_type": "code",
   "execution_count": 39,
   "id": "9e24c498",
   "metadata": {},
   "outputs": [],
   "source": [
    "# CART Model\n",
    "mod7 = DecisionTreeClassifier(random_state=1, criterion='gini')"
   ]
  },
  {
   "cell_type": "code",
   "execution_count": 40,
   "id": "315b7ca8",
   "metadata": {},
   "outputs": [
    {
     "data": {
      "text/plain": [
       "DecisionTreeClassifier(random_state=1)"
      ]
     },
     "execution_count": 40,
     "metadata": {},
     "output_type": "execute_result"
    }
   ],
   "source": [
    "mod7.fit(x_train, y_train)"
   ]
  },
  {
   "cell_type": "code",
   "execution_count": 41,
   "id": "169f678c",
   "metadata": {},
   "outputs": [
    {
     "data": {
      "text/plain": [
       "{'ccp_alpha': 0.0,\n",
       " 'class_weight': None,\n",
       " 'criterion': 'gini',\n",
       " 'max_depth': None,\n",
       " 'max_features': None,\n",
       " 'max_leaf_nodes': None,\n",
       " 'min_impurity_decrease': 0.0,\n",
       " 'min_impurity_split': None,\n",
       " 'min_samples_leaf': 1,\n",
       " 'min_samples_split': 2,\n",
       " 'min_weight_fraction_leaf': 0.0,\n",
       " 'random_state': 1,\n",
       " 'splitter': 'best'}"
      ]
     },
     "execution_count": 41,
     "metadata": {},
     "output_type": "execute_result"
    }
   ],
   "source": [
    "mod7.get_params(deep=True)"
   ]
  },
  {
   "cell_type": "code",
   "execution_count": 42,
   "id": "c13f2c94",
   "metadata": {},
   "outputs": [
    {
     "name": "stderr",
     "output_type": "stream",
     "text": [
      "/home/anmol/anaconda3/envs/pycaret/lib/python3.8/site-packages/seaborn/_decorators.py:36: FutureWarning: Pass the following variables as keyword args: x, y. From version 0.12, the only valid positional argument will be `data`, and passing other arguments without an explicit keyword will result in an error or misinterpretation.\n",
      "  warnings.warn(\n"
     ]
    },
    {
     "data": {
      "image/png": "[encoded data removed]",
      "text/plain": [
       "<Figure size 720x720 with 1 Axes>"
      ]
     },
     "metadata": {
      "needs_background": "light"
     },
     "output_type": "display_data"
    }
   ],
   "source": [
    "p = pd.DataFrame(mod7.feature_importances_*100, index=x_train.columns).sort_values(by=0, ascending=False)\n",
    "plt.figure(figsize=(10,10))\n",
    "sns.barplot(p[0], p.index,)\n",
    "plt.ylabel('Feature Name')\n",
    "plt.xlabel('Feature Importance in %')\n",
    "plt.title('Feature Importance Plot')\n",
    "#plt.savefig('q2_Feature Importance of Variables for CART Model.png')\n",
    "plt.show()"
   ]
  },
  {
   "cell_type": "code",
   "execution_count": 43,
   "id": "cf939beb",
   "metadata": {},
   "outputs": [],
   "source": [
    "train_pred_mod7 = mod7.predict(x_train)\n",
    "test_pred_mod7 = mod7.predict(x_test)"
   ]
  },
  {
   "cell_type": "code",
   "execution_count": 44,
   "id": "48bc99e5",
   "metadata": {},
   "outputs": [
    {
     "name": "stdout",
     "output_type": "stream",
     "text": [
      "              precision    recall  f1-score   support\n",
      "\n",
      "         0.0       1.00      1.00      1.00      3277\n",
      "         1.0       1.00      1.00      1.00       664\n",
      "\n",
      "    accuracy                           1.00      3941\n",
      "   macro avg       1.00      1.00      1.00      3941\n",
      "weighted avg       1.00      1.00      1.00      3941\n",
      "\n"
     ]
    }
   ],
   "source": [
    "#training data\n",
    "print(classification_report(y_train, train_pred_mod7))"
   ]
  },
  {
   "cell_type": "code",
   "execution_count": 45,
   "id": "e7390e9c",
   "metadata": {},
   "outputs": [
    {
     "name": "stdout",
     "output_type": "stream",
     "text": [
      "              precision    recall  f1-score   support\n",
      "\n",
      "         0.0       0.98      0.98      0.98      1405\n",
      "         1.0       0.88      0.88      0.88       284\n",
      "\n",
      "    accuracy                           0.96      1689\n",
      "   macro avg       0.93      0.93      0.93      1689\n",
      "weighted avg       0.96      0.96      0.96      1689\n",
      "\n"
     ]
    }
   ],
   "source": [
    "#testing data\n",
    "print(classification_report(y_test, test_pred_mod7))"
   ]
  },
  {
   "cell_type": "code",
   "execution_count": 46,
   "id": "c58148cc",
   "metadata": {},
   "outputs": [
    {
     "data": {
      "text/plain": [
       "Text(0.5, 1.0, 'Confusion Matrix for training data')"
      ]
     },
     "execution_count": 46,
     "metadata": {},
     "output_type": "execute_result"
    },
    {
     "data": {
      "image/png": "[encoded data removed]",
      "text/plain": [
       "<Figure size 432x288 with 1 Axes>"
      ]
     },
     "metadata": {
      "needs_background": "light"
     },
     "output_type": "display_data"
    }
   ],
   "source": [
    "sns.heatmap(confusion_matrix(y_train, train_pred_mod7), annot=True, cbar=False, fmt='d')\n",
    "plt.xlabel('predicted labels')\n",
    "plt.ylabel('actual labels')\n",
    "plt.title('Confusion Matrix for training data')"
   ]
  },
  {
   "cell_type": "code",
   "execution_count": 47,
   "id": "902a4b2f",
   "metadata": {},
   "outputs": [
    {
     "data": {
      "text/plain": [
       "Text(33.0, 0.5, 'actual lables')"
      ]
     },
     "execution_count": 47,
     "metadata": {},
     "output_type": "execute_result"
    },
    {
     "data": {
      "image/png": "[encoded data removed]",
      "text/plain": [
       "<Figure size 432x288 with 1 Axes>"
      ]
     },
     "metadata": {
      "needs_background": "light"
     },
     "output_type": "display_data"
    }
   ],
   "source": [
    "sns.heatmap(confusion_matrix(y_test, test_pred_mod7), annot=True, cbar=False, fmt='d')\n",
    "plt.xlabel('predicted labels')\n",
    "plt.ylabel('actual lables')"
   ]
  },
  {
   "cell_type": "code",
   "execution_count": 48,
   "id": "94f1a73d",
   "metadata": {},
   "outputs": [
    {
     "name": "stdout",
     "output_type": "stream",
     "text": [
      "1.0\n"
     ]
    }
   ],
   "source": [
    "#training data\n",
    "print(mod7.score(x_train, y_train))"
   ]
  },
  {
   "cell_type": "code",
   "execution_count": 49,
   "id": "dc612312",
   "metadata": {},
   "outputs": [
    {
     "name": "stdout",
     "output_type": "stream",
     "text": [
      "0.9597394908229722\n"
     ]
    }
   ],
   "source": [
    "#testing data\n",
    "print(mod7.score(x_test, y_test))"
   ]
  },
  {
   "cell_type": "code",
   "execution_count": 50,
   "id": "7b7e24ac",
   "metadata": {},
   "outputs": [
    {
     "name": "stdout",
     "output_type": "stream",
     "text": [
      "the auc score for training dataset is: 1.000\n"
     ]
    },
    {
     "data": {
      "text/plain": [
       "[<matplotlib.lines.Line2D at 0x7ff6700c13d0>]"
      ]
     },
     "execution_count": 50,
     "metadata": {},
     "output_type": "execute_result"
    },
    {
     "data": {
      "image/png": "[encoded data removed]",
      "text/plain": [
       "<Figure size 432x288 with 1 Axes>"
      ]
     },
     "metadata": {
      "needs_background": "light"
     },
     "output_type": "display_data"
    }
   ],
   "source": [
    "# auc score\n",
    "probs13= mod7.predict_proba(x_train)\n",
    "probs13 = probs13[:,1]\n",
    "auc_score_mod7_train = roc_auc_score(y_train, probs13)\n",
    "print('the auc score for training dataset is: %.3f'%auc_score_mod7_train)\n",
    "\n",
    "# roc curve\n",
    "mod7_train_tpr, mod7_train_fpr, mod7_train_thresholds = roc_curve(y_train, probs13)\n",
    "plt.plot([0,1],[0,1], linestyle='--', color='g')\n",
    "plt.plot(mod7_train_tpr, mod7_train_fpr)"
   ]
  },
  {
   "cell_type": "code",
   "execution_count": 51,
   "id": "abe2a125",
   "metadata": {},
   "outputs": [
    {
     "name": "stdout",
     "output_type": "stream",
     "text": [
      "the auc score on the testing dataset is: 0.927\n"
     ]
    },
    {
     "data": {
      "text/plain": [
       "[<matplotlib.lines.Line2D at 0x7ff670020d00>]"
      ]
     },
     "execution_count": 51,
     "metadata": {},
     "output_type": "execute_result"
    },
    {
     "data": {
      "image/png": "[encoded data removed]",
      "text/plain": [
       "<Figure size 432x288 with 1 Axes>"
      ]
     },
     "metadata": {
      "needs_background": "light"
     },
     "output_type": "display_data"
    }
   ],
   "source": [
    "# testing dataset\n",
    "\n",
    "probs14 = mod7.predict_proba(x_test)\n",
    "probs14 = probs14[:,1]\n",
    "\n",
    "auc_score_mod7_test = roc_auc_score(y_test, probs14)\n",
    "print('the auc score on the testing dataset is: %.3f' %auc_score_mod7_test)\n",
    "\n",
    "\n",
    "mod7_test_tpr, mod7_test_fpr, mod7_thresholds = roc_curve(y_test, probs14)\n",
    "plt.plot([0,1],[0,1], linestyle='--', color='g')\n",
    "plt.plot(mod7_test_tpr, mod7_test_fpr)"
   ]
  },
  {
   "cell_type": "code",
   "execution_count": null,
   "id": "1106a251",
   "metadata": {},
   "outputs": [],
   "source": []
  },
  {
   "cell_type": "code",
   "execution_count": 52,
   "id": "7aeac32b",
   "metadata": {},
   "outputs": [],
   "source": [
    "# Function for Classification Report, Confusion matrix, Model Score, AUC score, ROC Curve"
   ]
  },
  {
   "cell_type": "code",
   "execution_count": 53,
   "id": "9e56bd09",
   "metadata": {},
   "outputs": [],
   "source": [
    "train_pred_mod7 = mod7.predict(x_train)\n",
    "test_pred_mod7 = mod7.predict(x_test)"
   ]
  },
  {
   "cell_type": "code",
   "execution_count": 54,
   "id": "9604ed96",
   "metadata": {},
   "outputs": [],
   "source": [
    "# #training data\n",
    "# print(classification_report(y_train, train_pred_mod7))"
   ]
  },
  {
   "cell_type": "code",
   "execution_count": 55,
   "id": "60d2f3d3",
   "metadata": {},
   "outputs": [],
   "source": [
    "# #testing data\n",
    "# print(classification_report(y_test, test_pred_mod7))"
   ]
  },
  {
   "cell_type": "code",
   "execution_count": 56,
   "id": "e0e05e0a",
   "metadata": {},
   "outputs": [],
   "source": [
    "# sns.heatmap(confusion_matrix(y_train, train_pred_mod7), annot=True, cbar=False, fmt='d')\n",
    "# plt.xlabel('predicted labels')\n",
    "# plt.ylabel('actual labels')\n",
    "\n",
    "\n",
    "# sns.heatmap(confusion_matrix(y_test, test_pred_mod7), annot=True, cbar=False, fmt='d')\n",
    "# plt.xlabel('predicted labels')\n",
    "# plt.ylabel('actual lables')"
   ]
  },
  {
   "cell_type": "code",
   "execution_count": 57,
   "id": "e176dd58",
   "metadata": {},
   "outputs": [
    {
     "name": "stdout",
     "output_type": "stream",
     "text": [
      "1.0\n",
      "0.9597394908229722\n"
     ]
    }
   ],
   "source": [
    "#training data\n",
    "print(mod7.score(x_train, y_train))\n",
    "\n",
    "#testing data\n",
    "print(mod7.score(x_test, y_test))"
   ]
  },
  {
   "cell_type": "code",
   "execution_count": 58,
   "id": "eb63b46b",
   "metadata": {},
   "outputs": [],
   "source": [
    "# classification matrix, confusion matrix, model score, \n",
    "def model_performance(x_train_data,\n",
    "                      y_train_data, \n",
    "                      train_preds,\n",
    "                      x_test_data,\n",
    "                      y_test_data,\n",
    "                      test_preds):\n",
    "    a = classification_report(y_train_data, train_preds)\n",
    "    b = classification_report(y_test_data, test_preds)\n",
    "    \n",
    "    c = round(mod7.score(x_train_data, y_train_data),4)\n",
    "    d = round(mod7.score(x_test_data, y_test_data),4)\n",
    "    \n",
    "    print('classification report for training data')\n",
    "    print(a)\n",
    "    print('\\n')\n",
    "    print('classification report for testing data')\n",
    "    print(b)\n",
    "    print('\\n')\n",
    "    print('the model score for training data is ',c)\n",
    "    print('the model score for testing data is ',d)\n",
    "    print('\\n')\n",
    "    \n",
    "    \n",
    "    from seaborn import heatmap\n",
    "    fig, axes = plt.subplots(ncols=2)\n",
    "    fig.set_size_inches(10,5)\n",
    "\n",
    "    sns.heatmap(confusion_matrix(y_test_data, test_preds), annot=True, cbar=False, fmt='d')\n",
    "    plt.xlabel('predicted labels')\n",
    "    plt.ylabel('actual labels')\n",
    "    plt.title('Confusion Matrix for Testing Data')\n",
    "    plt.subplot(1,2,1)\n",
    "\n",
    "    sns.heatmap(confusion_matrix(y_train_data, train_preds), annot=True, cbar=False, fmt='d')\n",
    "    plt.xlabel('predicted labels')\n",
    "    plt.ylabel('actual labels')\n",
    "    plt.title('Confusion Matrix for Training Data')\n",
    "    plt.subplot(1,2,2)"
   ]
  },
  {
   "cell_type": "code",
   "execution_count": 60,
   "id": "3d74b76a",
   "metadata": {},
   "outputs": [],
   "source": [
    "# model_performance(y_train, train_pred_mod7, y_test, test_pred_mod7)"
   ]
  },
  {
   "cell_type": "code",
   "execution_count": 61,
   "id": "a6044e7c",
   "metadata": {},
   "outputs": [
    {
     "name": "stdout",
     "output_type": "stream",
     "text": [
      "classification report for training data\n",
      "              precision    recall  f1-score   support\n",
      "\n",
      "         0.0       1.00      1.00      1.00      3277\n",
      "         1.0       1.00      1.00      1.00       664\n",
      "\n",
      "    accuracy                           1.00      3941\n",
      "   macro avg       1.00      1.00      1.00      3941\n",
      "weighted avg       1.00      1.00      1.00      3941\n",
      "\n",
      "\n",
      "\n",
      "classification report for testing data\n",
      "              precision    recall  f1-score   support\n",
      "\n",
      "         0.0       0.98      0.98      0.98      1405\n",
      "         1.0       0.88      0.88      0.88       284\n",
      "\n",
      "    accuracy                           0.96      1689\n",
      "   macro avg       0.93      0.93      0.93      1689\n",
      "weighted avg       0.96      0.96      0.96      1689\n",
      "\n",
      "\n",
      "\n",
      "the model score for training data is  1.0\n",
      "the model score for testing data is  0.9597\n",
      "\n",
      "\n"
     ]
    },
    {
     "data": {
      "image/png": "[encoded data removed]",
      "text/plain": [
       "<Figure size 720x360 with 2 Axes>"
      ]
     },
     "metadata": {
      "needs_background": "light"
     },
     "output_type": "display_data"
    }
   ],
   "source": [
    "model_performance(x_train, y_train, train_pred_mod7,x_test,y_test, test_pred_mod7)"
   ]
  },
  {
   "cell_type": "code",
   "execution_count": null,
   "id": "a3856191",
   "metadata": {},
   "outputs": [],
   "source": []
  },
  {
   "cell_type": "markdown",
   "id": "44081f79",
   "metadata": {},
   "source": [
    "# K-Fold Cross Validation"
   ]
  },
  {
   "cell_type": "code",
   "execution_count": 67,
   "id": "a6dd95f4",
   "metadata": {},
   "outputs": [],
   "source": [
    "def k_fold_cross_valscore(model_name,\n",
    "                          x_train_data,\n",
    "                          y_train_data,\n",
    "                          folds\n",
    "                         ):\n",
    "    from sklearn.model_selection import cross_val_score\n",
    "    \n",
    "    model_kfold_recall = cross_val_score(model_name, x_train_data, y_train_data,\n",
    "                                         cv=folds, scoring='recall', verbose=3)\n",
    "    model_kfold_accuracy = cross_val_score(model_name, x_train_data, y_train_data,\n",
    "                                           cv=folds, scoring='accuracy', verbose=3)\n",
    "    model_kfold_precision = cross_val_score(model_name, x_train_data, y_train_data,\n",
    "                                           cv=folds, scoring='precision', verbose=3)\n",
    "    model_kfold_f1 = cross_val_score(model_name, x_train_data, y_train_data,\n",
    "                                           cv=folds, scoring='f1', verbose=3)\n",
    "    \n",
    "    print('\\n')\n",
    "    print('the model recall values for ',folds, \" folds:\")\n",
    "    print(model_kfold_recall)\n",
    "    print('\\n')\n",
    "    print('the model accuracy values for ',folds, \" folds:\")\n",
    "    print(model_kfold_accuracy)\n",
    "    print('\\n')\n",
    "    print('the model precision values for ',folds, \" folds:\")\n",
    "    print(model_kfold_precision)\n",
    "    print('\\n')\n",
    "    print('the model f1 values for ',folds, \" folds:\")\n",
    "    print(model_kfold_f1)\n",
    "    print('\\n')\n",
    "    \n",
    "    print(\"The mean recall for the model after \" ,folds,\" folds is \", np.mean(model_kfold_recall))\n",
    "    print(\"The mean accuracy for model after \",folds,\" folds is\", np.mean(model_kfold_accuracy))\n",
    "    print(\"the mean precision for the model after \",folds,\" folds is\",np.mean(model_kfold_precision))\n",
    "    print(\"the mean f1 score for the model after \",folds,\" folds is\", np.mean(model_kfold_f1))"
   ]
  },
  {
   "cell_type": "code",
   "execution_count": 68,
   "id": "72c4593d",
   "metadata": {},
   "outputs": [
    {
     "name": "stderr",
     "output_type": "stream",
     "text": [
      "[Parallel(n_jobs=1)]: Using backend SequentialBackend with 1 concurrent workers.\n",
      "[Parallel(n_jobs=1)]: Done   1 out of   1 | elapsed:    0.0s remaining:    0.0s\n",
      "[Parallel(n_jobs=1)]: Done   2 out of   2 | elapsed:    0.1s remaining:    0.0s\n",
      "[Parallel(n_jobs=1)]: Done   5 out of   5 | elapsed:    0.2s finished\n",
      "[Parallel(n_jobs=1)]: Using backend SequentialBackend with 1 concurrent workers.\n"
     ]
    },
    {
     "name": "stdout",
     "output_type": "stream",
     "text": [
      "[CV] END ................................ score: (test=0.782) total time=   0.0s\n",
      "[CV] END ................................ score: (test=0.811) total time=   0.0s\n",
      "[CV] END ................................ score: (test=0.789) total time=   0.0s\n",
      "[CV] END ................................ score: (test=0.684) total time=   0.0s\n",
      "[CV] END ................................ score: (test=0.774) total time=   0.0s\n",
      "[CV] END ................................ score: (test=0.929) total time=   0.0s\n"
     ]
    },
    {
     "name": "stderr",
     "output_type": "stream",
     "text": [
      "[Parallel(n_jobs=1)]: Done   1 out of   1 | elapsed:    0.0s remaining:    0.0s\n",
      "[Parallel(n_jobs=1)]: Done   2 out of   2 | elapsed:    0.1s remaining:    0.0s\n",
      "[Parallel(n_jobs=1)]: Done   5 out of   5 | elapsed:    0.2s finished\n",
      "[Parallel(n_jobs=1)]: Using backend SequentialBackend with 1 concurrent workers.\n",
      "[Parallel(n_jobs=1)]: Done   1 out of   1 | elapsed:    0.0s remaining:    0.0s\n",
      "[Parallel(n_jobs=1)]: Done   2 out of   2 | elapsed:    0.1s remaining:    0.0s\n"
     ]
    },
    {
     "name": "stdout",
     "output_type": "stream",
     "text": [
      "[CV] END ................................ score: (test=0.921) total time=   0.0s\n",
      "[CV] END ................................ score: (test=0.920) total time=   0.0s\n",
      "[CV] END ................................ score: (test=0.900) total time=   0.0s\n",
      "[CV] END ................................ score: (test=0.912) total time=   0.0s\n",
      "[CV] END ................................ score: (test=0.794) total time=   0.0s\n",
      "[CV] END ................................ score: (test=0.743) total time=   0.0s\n",
      "[CV] END ................................ score: (test=0.750) total time=   0.0s\n",
      "[CV] END ................................ score: (test=0.711) total time=   0.0s\n",
      "[CV] END ................................ score: (test=0.725) total time=   0.0s\n",
      "[CV] END ................................ score: (test=0.788) total time=   0.0s\n",
      "[CV] END ................................ score: (test=0.775) total time=   0.0s\n",
      "[CV] END ................................ score: (test=0.769) total time=   0.0s\n",
      "[CV] END ................................ score: (test=0.697) total time=   0.0s\n",
      "[CV] END ................................ score: (test=0.749) total time=   0.0s\n",
      "\n",
      "\n",
      "the model recall values for  5  folds:\n",
      "[0.78195489 0.81060606 0.78947368 0.68421053 0.77443609]\n",
      "\n",
      "\n",
      "the model accuracy values for  5  folds:\n",
      "[0.92902408 0.9213198  0.92005076 0.89974619 0.91243655]\n",
      "\n",
      "\n",
      "the model precision values for  5  folds:\n",
      "[0.79389313 0.74305556 0.75       0.7109375  0.72535211]\n",
      "\n",
      "\n",
      "the model f1 values for  5  folds:\n",
      "[0.78787879 0.77536232 0.76923077 0.69731801 0.74909091]\n",
      "\n",
      "\n",
      "The mean recall for the model after  5  folds is  0.768136249715197\n",
      "The mean accuracy for model after  5  folds is 0.9165154761215444\n",
      "the mean precision for the model after  5  folds is 0.7446476596005209\n",
      "the mean f1 score for the model after  5  folds is 0.7557761585407763\n"
     ]
    },
    {
     "name": "stderr",
     "output_type": "stream",
     "text": [
      "[Parallel(n_jobs=1)]: Done   5 out of   5 | elapsed:    0.2s finished\n",
      "[Parallel(n_jobs=1)]: Using backend SequentialBackend with 1 concurrent workers.\n",
      "[Parallel(n_jobs=1)]: Done   1 out of   1 | elapsed:    0.0s remaining:    0.0s\n",
      "[Parallel(n_jobs=1)]: Done   2 out of   2 | elapsed:    0.1s remaining:    0.0s\n",
      "[Parallel(n_jobs=1)]: Done   5 out of   5 | elapsed:    0.2s finished\n"
     ]
    }
   ],
   "source": [
    " k_fold_cross_valscore(mod7, x_train, y_train, folds=5)"
   ]
  },
  {
   "cell_type": "code",
   "execution_count": null,
   "id": "5129a18a",
   "metadata": {},
   "outputs": [],
   "source": []
  }
 ],
 "metadata": {
  "kernelspec": {
   "display_name": "Python 3 (ipykernel)",
   "language": "python",
   "name": "python3"
  },
  "language_info": {
   "codemirror_mode": {
    "name": "ipython",
    "version": 3
   },
   "file_extension": ".py",
   "mimetype": "text/x-python",
   "name": "python",
   "nbconvert_exporter": "python",
   "pygments_lexer": "ipython3",
   "version": "3.8.10"
  }
 },
 "nbformat": 4,
 "nbformat_minor": 5
}
